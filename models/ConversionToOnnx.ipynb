{
 "cells": [
  {
   "cell_type": "code",
   "execution_count": 3,
   "id": "7eaef054",
   "metadata": {},
   "outputs": [
    {
     "name": "stdout",
     "output_type": "stream",
     "text": [
      "Collecting package metadata (current_repodata.json): done\n",
      "Solving environment: failed with initial frozen solve. Retrying with flexible solve.\n",
      "Solving environment: failed with repodata from current_repodata.json, will retry with next repodata source.\n",
      "Collecting package metadata (repodata.json): done\n",
      "Solving environment: done\n",
      "\n",
      "## Package Plan ##\n",
      "\n",
      "  environment location: /opt/conda\n",
      "\n",
      "  added / updated specs:\n",
      "    - cmake\n",
      "\n",
      "\n",
      "The following packages will be downloaded:\n",
      "\n",
      "    package                    |            build\n",
      "    ---------------------------|-----------------\n",
      "    ca-certificates-2022.12.7  |       ha878542_0         143 KB  conda-forge\n",
      "    certifi-2022.12.7          |     pyhd8ed1ab_0         147 KB  conda-forge\n",
      "    cmake-3.17.0               |       h28c56e5_0        12.3 MB  conda-forge\n",
      "    conda-22.9.0               |   py37h89c1867_1         960 KB  conda-forge\n",
      "    openssl-1.1.1s             |       h7f8727e_0         3.6 MB\n",
      "    panel-0.6.4                |                0         319 KB\n",
      "    rhash-1.4.0                |       h36c2ea0_0         185 KB  conda-forge\n",
      "    ------------------------------------------------------------\n",
      "                                           Total:        17.6 MB\n",
      "\n",
      "The following NEW packages will be INSTALLED:\n",
      "\n",
      "  cmake              conda-forge/linux-64::cmake-3.17.0-h28c56e5_0\n",
      "  rhash              conda-forge/linux-64::rhash-1.4.0-h36c2ea0_0\n",
      "\n",
      "The following packages will be UPDATED:\n",
      "\n",
      "  ca-certificates                      2021.10.8-ha878542_0 --> 2022.12.7-ha878542_0\n",
      "  certifi            conda-forge/linux-64::certifi-2021.10~ --> conda-forge/noarch::certifi-2022.12.7-pyhd8ed1ab_0\n",
      "  conda                               4.11.0-py37h89c1867_0 --> 22.9.0-py37h89c1867_1\n",
      "  openssl                                 1.1.1m-h7f8727e_0 --> 1.1.1s-h7f8727e_0\n",
      "\n",
      "The following packages will be SUPERSEDED by a higher-priority channel:\n",
      "\n",
      "  panel                                         conda-forge --> pkgs/main\n",
      "\n",
      "\n",
      "\n",
      "Downloading and Extracting Packages\n",
      "certifi-2022.12.7    | 147 KB    | ##################################### | 100% \n",
      "cmake-3.17.0         | 12.3 MB   | ##################################### | 100% \n",
      "rhash-1.4.0          | 185 KB    | ##################################### | 100% \n",
      "ca-certificates-2022 | 143 KB    | ##################################### | 100% \n",
      "openssl-1.1.1s       | 3.6 MB    | ##################################### | 100% \n",
      "conda-22.9.0         | 960 KB    | ##################################### | 100% \n",
      "panel-0.6.4          | 319 KB    | ##################################### | 100% \n",
      "Preparing transaction: done\n",
      "Verifying transaction: done\n",
      "Executing transaction: done\n"
     ]
    }
   ],
   "source": [
    "!conda install cmake -y"
   ]
  },
  {
   "cell_type": "code",
   "execution_count": 4,
   "id": "6b958326",
   "metadata": {
    "scrolled": true
   },
   "outputs": [
    {
     "name": "stdout",
     "output_type": "stream",
     "text": [
      "Collecting tf2onnx\n",
      "  Using cached https://files.pythonhosted.org/packages/87/9c/092b8808c145b274226cd20cd4cb482781a905f49b8f33713151f12cbecb/tf2onnx-1.13.0-py3-none-any.whl\n",
      "Requirement already satisfied: requests in /opt/conda/lib/python3.7/site-packages (from tf2onnx) (2.22.0)\n",
      "Requirement already satisfied: six in /opt/conda/lib/python3.7/site-packages (from tf2onnx) (1.12.0)\n",
      "Collecting onnx>=1.4.1 (from tf2onnx)\n",
      "  Using cached https://files.pythonhosted.org/packages/6c/f6/215ba9e8d2587755df363170e3be54892b087bad0a99935fe456f7555255/onnx-1.13.0.tar.gz\n",
      "  Installing build dependencies ... \u001b[?25ldone\n",
      "\u001b[?25h  Getting requirements to build wheel ... \u001b[?25ldone\n",
      "\u001b[?25h  Installing backend dependencies ... \u001b[?25ldone\n",
      "\u001b[?25h    Preparing wheel metadata ... \u001b[?25ldone\n",
      "\u001b[?25hRequirement already satisfied: numpy>=1.14.1 in /opt/conda/lib/python3.7/site-packages (from tf2onnx) (1.19.4)\n",
      "Collecting flatbuffers<3.0,>=1.12 (from tf2onnx)\n",
      "  Using cached https://files.pythonhosted.org/packages/d7/0d/b5bfb553a6ac66d6ec2b6d7f1e814a908fba7188356ac94bb36ae3d905c3/flatbuffers-2.0.7-py2.py3-none-any.whl\n",
      "Requirement already satisfied: certifi>=2017.4.17 in /opt/conda/lib/python3.7/site-packages (from requests->tf2onnx) (2022.12.7)\n",
      "Requirement already satisfied: idna<2.9,>=2.5 in /opt/conda/lib/python3.7/site-packages (from requests->tf2onnx) (2.8)\n",
      "Requirement already satisfied: urllib3!=1.25.0,!=1.25.1,<1.26,>=1.21.1 in /opt/conda/lib/python3.7/site-packages (from requests->tf2onnx) (1.24.2)\n",
      "Requirement already satisfied: chardet<3.1.0,>=3.0.2 in /opt/conda/lib/python3.7/site-packages (from requests->tf2onnx) (3.0.4)\n",
      "Requirement already satisfied: typing-extensions>=3.6.2.1 in /opt/conda/lib/python3.7/site-packages (from onnx>=1.4.1->tf2onnx) (3.10.0.2)\n",
      "Collecting protobuf<4,>=3.20.2 (from onnx>=1.4.1->tf2onnx)\n",
      "\u001b[?25l  Downloading https://files.pythonhosted.org/packages/4c/12/62e1d5505c172e1a7f803d83b0b1693f7952c3c271eb2f155703012ae67a/protobuf-3.20.3-cp37-cp37m-manylinux_2_5_x86_64.manylinux1_x86_64.whl (1.0MB)\n",
      "\u001b[K     |████████████████████████████████| 1.0MB 7.8MB/s eta 0:00:01\n",
      "\u001b[?25hBuilding wheels for collected packages: onnx\n",
      "  Building wheel for onnx (PEP 517) ... \u001b[?25ldone\n",
      "\u001b[?25h  Created wheel for onnx: filename=onnx-1.13.0-cp37-cp37m-linux_x86_64.whl size=12612288 sha256=0c5cf64a3e5ba70d26407eab5eeff87e2c968b0258dadcef6390be6b36e057f3\n",
      "  Stored in directory: /home/jovyan/.cache/pip/wheels/97/22/f4/e24d36b597ba4b749deefad1497dafbc5d2345820d2d6c7fbc\n",
      "Successfully built onnx\n",
      "\u001b[31mERROR: tensorflow 2.1.0 has requirement scipy==1.4.1; python_version >= \"3\", but you'll have scipy 1.5.3 which is incompatible.\u001b[0m\n",
      "\u001b[31mERROR: tensorflow 2.1.0 has requirement tensorboard<2.2.0,>=2.1.0, but you'll have tensorboard 2.4.1 which is incompatible.\u001b[0m\n",
      "Installing collected packages: protobuf, onnx, flatbuffers, tf2onnx\n",
      "  Found existing installation: protobuf 3.19.6\n",
      "    Uninstalling protobuf-3.19.6:\n",
      "      Successfully uninstalled protobuf-3.19.6\n",
      "Successfully installed flatbuffers-2.0.7 onnx-1.13.0 protobuf-3.20.3 tf2onnx-1.13.0\n",
      "Requirement already satisfied: onnx in /opt/conda/lib/python3.7/site-packages (1.13.0)\n",
      "Requirement already satisfied: numpy>=1.16.6 in /opt/conda/lib/python3.7/site-packages (from onnx) (1.19.4)\n",
      "Requirement already satisfied: protobuf<4,>=3.20.2 in /opt/conda/lib/python3.7/site-packages (from onnx) (3.20.3)\n",
      "Requirement already satisfied: typing-extensions>=3.6.2.1 in /opt/conda/lib/python3.7/site-packages (from onnx) (3.10.0.2)\n",
      "/opt/conda/lib/python3.7/runpy.py:125: RuntimeWarning: 'tf2onnx.convert' found in sys.modules after import of package 'tf2onnx', but prior to execution of 'tf2onnx.convert'; this may result in unpredictable behaviour\n",
      "  warn(RuntimeWarning(msg))\n",
      "2023-01-11 09:23:28,863 - WARNING - '--tag' not specified for saved_model. Using --tag serve\n",
      "2023-01-11 09:23:29,841 - INFO - Signatures found in model: [serving_default].\n",
      "2023-01-11 09:23:29,841 - WARNING - '--signature_def' not specified, using first signature: serving_default\n",
      "2023-01-11 09:23:29,842 - INFO - Output names: ['dense_11']\n",
      "2023-01-11 09:23:30,381 - INFO - Using tensorflow=2.1.0, onnx=1.13.0, tf2onnx=1.13.0/2c1db5\n",
      "2023-01-11 09:23:30,381 - INFO - Using opset <onnx, 13>\n",
      "2023-01-11 09:23:30,847 - INFO - Computed 0 values for constant folding\n",
      "2023-01-11 09:23:31,165 - INFO - Optimizing ONNX model\n",
      "2023-01-11 09:23:31,360 - INFO - After optimization: Cast -1 (1->0), Const -8 (61->53), Identity -2 (2->0), Reshape -8 (9->1), Transpose -60 (62->2)\n",
      "2023-01-11 09:23:31,373 - INFO - \n",
      "2023-01-11 09:23:31,373 - INFO - Successfully converted TensorFlow model keras_model to ONNX\n",
      "2023-01-11 09:23:31,373 - INFO - Model inputs: ['input_3']\n",
      "2023-01-11 09:23:31,373 - INFO - Model outputs: ['dense_11']\n",
      "2023-01-11 09:23:31,373 - INFO - ONNX model is saved at temp.onnx\n"
     ]
    }
   ],
   "source": [
    "!pip install tf2onnx\n",
    "!pip install onnx\n",
    "!python -m tf2onnx.convert --saved-model keras_model --output temp.onnx"
   ]
  },
  {
   "cell_type": "code",
   "execution_count": 5,
   "id": "5515491c",
   "metadata": {},
   "outputs": [],
   "source": [
    "import onnx\n",
    "BATCH_SIZE = 32\n",
    "onnx_model = onnx.load_model('temp.onnx')\n",
    "\n",
    "inputs = onnx_model.graph.input\n",
    "for input in inputs:\n",
    "    dim1 = input.type.tensor_type.shape.dim[0]\n",
    "    dim1.dim_value = BATCH_SIZE\n",
    "    \n",
    "model_name = \"model.onnx\"\n",
    "onnx.save_model(onnx_model, model_name)"
   ]
  },
  {
   "cell_type": "code",
   "execution_count": null,
   "id": "dfe8808a",
   "metadata": {},
   "outputs": [],
   "source": []
  }
 ],
 "metadata": {
  "kernelspec": {
   "display_name": "Python 3",
   "language": "python",
   "name": "python3"
  },
  "language_info": {
   "codemirror_mode": {
    "name": "ipython",
    "version": 3
   },
   "file_extension": ".py",
   "mimetype": "text/x-python",
   "name": "python",
   "nbconvert_exporter": "python",
   "pygments_lexer": "ipython3",
   "version": "3.7.6"
  }
 },
 "nbformat": 4,
 "nbformat_minor": 5
}
